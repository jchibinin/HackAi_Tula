{
 "cells": [
  {
   "cell_type": "code",
   "execution_count": null,
   "metadata": {},
   "outputs": [],
   "source": [
    "#предыдущий месяц, среднее за месяц наблюдений, среднее за все время"
   ]
  },
  {
   "cell_type": "code",
   "execution_count": null,
   "metadata": {
    "id": "E25l8C4adTU4"
   },
   "outputs": [],
   "source": [
    "import pandas as pd\n",
    "import numpy as np\n",
    "from catboost import CatBoostRegressor, Pool\n",
    "from sklearn.model_selection import train_test_split\n",
    "from sklearn.metrics import r2_score"
   ]
  },
  {
   "cell_type": "code",
   "execution_count": null,
   "metadata": {},
   "outputs": [],
   "source": [
    "def positive(a):\n",
    "    if a<0:\n",
    "        return 0\n",
    "    else:\n",
    "        return a"
   ]
  },
  {
   "cell_type": "code",
   "execution_count": null,
   "metadata": {},
   "outputs": [],
   "source": [
    "def townClass(x):\n",
    "    if x>600000:\n",
    "        return \"XXL\"\n",
    "    elif x>100000:\n",
    "        return \"XL\"\n",
    "    elif x>15000:\n",
    "        return \"L\"\n",
    "    elif x>3000:\n",
    "        return \"M\"\n",
    "    elif x>1000:\n",
    "        return \"S\"\n",
    "    elif x>500:\n",
    "        return \"XS\"\n",
    "    else:\n",
    "        return \"XXS\" \n",
    "towns = pd.read_csv('towns.csv', sep=',', index_col='ADRES', dtype={'POPULATION':int})\n",
    "#towns=towns['POPULATION']\n",
    "towns['TOWN_SIZE'] = towns['POPULATION'].apply(townClass)\n",
    "towns=towns['TOWN_SIZE']\n"
   ]
  },
  {
   "cell_type": "code",
   "execution_count": null,
   "metadata": {
    "id": "WdI39lYbcziV"
   },
   "outputs": [],
   "source": [
    "#Считывание данных в DataFrame \n",
    "\n",
    "train = pd.read_csv('train_dataset_train.csv', sep=';', index_col=None, dtype={'PATIENT_SEX':str, 'MKB_CODE':str, 'ADRES':str, 'VISIT_MONTH_YEAR':str, 'AGE_CATEGORY':str, 'PATIENT_ID_COUNT':int})\n",
    "test = pd.read_csv('test_dataset_test.csv', sep=';', index_col=None, dtype={'PATIENT_SEX':str, 'MKB_CODE':str, 'ADRES':str, 'VISIT_MONTH_YEAR':str, 'AGE_CATEGORY':str})"
   ]
  },
  {
   "cell_type": "code",
   "execution_count": null,
   "metadata": {},
   "outputs": [],
   "source": [
    "train['VISIT_MONTH_YEAR'] = pd.to_datetime(train['VISIT_MONTH_YEAR'].map(lambda b: \"01.\"+b))\n",
    "test['VISIT_MONTH_YEAR'] = pd.to_datetime(test['VISIT_MONTH_YEAR'].map(lambda b: \"01.\"+b))\n",
    "\n",
    "train['VISIT_MONTH'] = train['VISIT_MONTH_YEAR'].map(lambda b: b.month).astype(str)\n",
    "train['VISIT_YEAR'] = train['VISIT_MONTH_YEAR'].map(lambda b: b.year).astype(str)\n",
    "\n",
    "test['VISIT_MONTH'] = test['VISIT_MONTH_YEAR'].map(lambda b: b.month).astype(str)\n",
    "test['VISIT_YEAR'] = test['VISIT_MONTH_YEAR'].map(lambda b: b.year).astype(str)"
   ]
  },
  {
   "cell_type": "code",
   "execution_count": null,
   "metadata": {
    "scrolled": true
   },
   "outputs": [],
   "source": [
    "#Обычно в этом месяце\n",
    "monthdatagrouped = train.copy().groupby(['PATIENT_SEX', 'MKB_CODE', 'ADRES', 'AGE_CATEGORY','VISIT_MONTH'], as_index=False).mean();\n",
    "monthdatagrouped.rename(columns = {'PATIENT_ID_COUNT' : 'PATIENT_ID_COUNT_MONTH'}, inplace = True)\n",
    "\n",
    "#Обычно в этом году\n",
    "yeardatagrouped = train.copy().groupby(['PATIENT_SEX', 'MKB_CODE', 'ADRES', 'AGE_CATEGORY','VISIT_YEAR'], as_index=False).mean();\n",
    "yeardatagrouped.rename(columns = {'PATIENT_ID_COUNT' : 'PATIENT_ID_COUNT_YEAR'}, inplace = True)\n",
    "\n",
    "\n",
    "train = pd.merge(train,monthdatagrouped,on = ['PATIENT_SEX', 'MKB_CODE', 'ADRES', 'AGE_CATEGORY','VISIT_MONTH'],how=\"left\")\n",
    "test  = pd.merge(test,monthdatagrouped,on = ['PATIENT_SEX', 'MKB_CODE', 'ADRES', 'AGE_CATEGORY','VISIT_MONTH'],how=\"left\")\n",
    "\n",
    "train = pd.merge(train,yeardatagrouped,on = ['PATIENT_SEX', 'MKB_CODE', 'ADRES', 'AGE_CATEGORY','VISIT_YEAR'],how=\"left\")\n",
    "test  = pd.merge(test,yeardatagrouped,on = ['PATIENT_SEX', 'MKB_CODE', 'ADRES', 'AGE_CATEGORY','VISIT_YEAR'],how=\"left\")\n",
    "\n",
    "train = pd.merge(train,towns,on = ['ADRES'],how=\"left\")\n",
    "test  = pd.merge(test,towns,on = ['ADRES'],how=\"left\")"
   ]
  },
  {
   "cell_type": "code",
   "execution_count": null,
   "metadata": {
    "scrolled": true
   },
   "outputs": [],
   "source": [
    "test = test.drop(['VISIT_MONTH'], axis=1)\n",
    "train = train.drop(['VISIT_MONTH'], axis=1)"
   ]
  },
  {
   "cell_type": "code",
   "execution_count": null,
   "metadata": {},
   "outputs": [],
   "source": [
    "data       = ['PATIENT_SEX', 'MKB_CODE', 'ADRES', 'VISIT_MONTH_YEAR','AGE_CATEGORY','VISIT_YEAR','TOWN_SIZE','PATIENT_ID_COUNT_MONTH','PATIENT_ID_COUNT_YEAR']   \n",
    "categories = ['PATIENT_SEX', 'MKB_CODE', 'ADRES', 'AGE_CATEGORY','VISIT_YEAR','TOWN_SIZE']"
   ]
  },
  {
   "cell_type": "code",
   "execution_count": null,
   "metadata": {
    "id": "F36oJ4HKe9fL"
   },
   "outputs": [],
   "source": [
    "#Отделение меток от данных\n",
    "\n",
    "X = train[data]\n",
    "y = train[['PATIENT_ID_COUNT']]"
   ]
  },
  {
   "cell_type": "code",
   "execution_count": null,
   "metadata": {},
   "outputs": [],
   "source": [
    "separator = pd.to_datetime(\"01.07.2021\")\n",
    "# разделяем датасет по дате\n",
    "train_train = train[train['VISIT_MONTH_YEAR']!=separator]\n",
    "train_val = train[train['VISIT_MONTH_YEAR'] ==separator]\n",
    "\n",
    "X_train = train_train[data]\n",
    "y_train = train_train[['PATIENT_ID_COUNT']]\n",
    "\n",
    "X_test  = train_val[data]\n",
    "y_test  = train_val[['PATIENT_ID_COUNT']]"
   ]
  },
  {
   "cell_type": "code",
   "execution_count": null,
   "metadata": {
    "id": "xIv9Jg72dZCP"
   },
   "outputs": [],
   "source": [
    "#Создание объекта данных Pool, плюсы: возможность указать какие признаки являются категориальными\n",
    "\n",
    "pool_train = Pool(X_train, y_train, cat_features = categories)\n",
    "pool_test = Pool(X_test, y_test, cat_features = categories)"
   ]
  },
  {
   "cell_type": "code",
   "execution_count": null,
   "metadata": {
    "colab": {
     "base_uri": "https://localhost:8080/"
    },
    "id": "dF-NDYYHgVw_",
    "outputId": "c754d192-192e-463c-dd36-a1772423d4ee",
    "scrolled": false
   },
   "outputs": [],
   "source": [
    "#Объявление CatBoostRegressor и обучение\n",
    "\n",
    "model = CatBoostRegressor(task_type='GPU',\n",
    "                         depth=14,\n",
    "                         learning_rate =  0.01,\n",
    "                         iterations=10000, \n",
    "                         random_state=1, \n",
    "                         use_best_model = True \n",
    "                         )\n",
    "model.fit(pool_train, eval_set = pool_test, plot = True, verbose=0)\n",
    "\n",
    "#Получение ответов модели на тестовой выборке в локальном тестировании \n",
    "\n",
    "y_pred = model.predict(pool_test)\n",
    "\n",
    "#На локальном тестировании модель выдаёт такой результат\n",
    "\n",
    "print(\"Значение метрики R2 на test: \", r2_score(y_test, y_pred))"
   ]
  },
  {
   "cell_type": "code",
   "execution_count": null,
   "metadata": {},
   "outputs": [],
   "source": [
    "model.tree_count_\n"
   ]
  },
  {
   "cell_type": "code",
   "execution_count": null,
   "metadata": {},
   "outputs": [],
   "source": [
    "model.get_feature_importance(prettified = True)"
   ]
  },
  {
   "cell_type": "code",
   "execution_count": null,
   "metadata": {
    "id": "v7wpw4hCiN2H"
   },
   "outputs": [],
   "source": [
    "#Получение ответов\n",
    "pool_test_solution = Pool(test, cat_features = categories)\n",
    "\n",
    "filename = 'solution_combo_test.csv'\n",
    "y_pred_solution = model.predict(pool_test_solution)"
   ]
  },
  {
   "cell_type": "code",
   "execution_count": null,
   "metadata": {
    "id": "shIk32Vxi-MJ"
   },
   "outputs": [],
   "source": [
    "#Формируем sample_solution для отправки на платформу\n",
    "test_ = pd.read_csv('test_dataset_test.csv', sep=';', index_col=None, dtype={'PATIENT_SEX':str, 'MKB_CODE':str, 'ADRES':str, 'VISIT_MONTH_YEAR':str, 'AGE_CATEGORY':str})\n",
    "test_['PATIENT_ID_COUNT'] = y_pred_solution\n",
    "test_['PATIENT_ID_COUNT'] = test_['PATIENT_ID_COUNT'].map(lambda b: round(b))\n",
    "test_['PATIENT_ID_COUNT'] = test_['PATIENT_ID_COUNT'].map(lambda b: positive(b)) "
   ]
  },
  {
   "cell_type": "code",
   "execution_count": null,
   "metadata": {
    "id": "36FP3OirjB0n"
   },
   "outputs": [],
   "source": [
    "#Сохраняем в csv файл\n",
    " \n",
    "test_[['PATIENT_SEX', 'MKB_CODE', 'ADRES', 'VISIT_MONTH_YEAR', 'AGE_CATEGORY','PATIENT_ID_COUNT']].to_csv(filename, sep=';', index=None)"
   ]
  },
  {
   "cell_type": "code",
   "execution_count": null,
   "metadata": {},
   "outputs": [],
   "source": [
    "np.sort(train[train['VISIT_MONTH_YEAR'] ==pd.to_datetime(\"01.10.2020\")]['ADRES'].unique())"
   ]
  },
  {
   "cell_type": "code",
   "execution_count": null,
   "metadata": {
    "scrolled": true
   },
   "outputs": [],
   "source": [
    "train[train['VISIT_MONTH_YEAR'] ==pd.to_datetime(\"01.10.2020\")]['ADRES'].count()"
   ]
  },
  {
   "cell_type": "code",
   "execution_count": null,
   "metadata": {
    "scrolled": true
   },
   "outputs": [],
   "source": [
    "np.sort(train[train['VISIT_MONTH_YEAR'] ==pd.to_datetime(\"01.11.2021\")]['ADRES'].unique())"
   ]
  },
  {
   "cell_type": "code",
   "execution_count": null,
   "metadata": {},
   "outputs": [],
   "source": [
    "train[train['VISIT_MONTH_YEAR'] ==pd.to_datetime(\"01.07.2021\")]['ADRES'].count()"
   ]
  },
  {
   "cell_type": "code",
   "execution_count": null,
   "metadata": {},
   "outputs": [],
   "source": [
    "np.sort(test['ADRES'].unique())"
   ]
  },
  {
   "cell_type": "code",
   "execution_count": null,
   "metadata": {},
   "outputs": [],
   "source": [
    "test.count()"
   ]
  },
  {
   "cell_type": "code",
   "execution_count": null,
   "metadata": {},
   "outputs": [],
   "source": [
    "np.sort(train[train['ADRES'] ==\"Светлогорск\"]['VISIT_MONTH_YEAR'].unique())"
   ]
  },
  {
   "cell_type": "code",
   "execution_count": null,
   "metadata": {},
   "outputs": [],
   "source": [
    "train.groupby('VISIT_MONTH_YEAR').count()"
   ]
  },
  {
   "cell_type": "code",
   "execution_count": null,
   "metadata": {},
   "outputs": [],
   "source": []
  }
 ],
 "metadata": {
  "accelerator": "GPU",
  "colab": {
   "collapsed_sections": [],
   "name": "baseline.ipynb",
   "provenance": []
  },
  "gpuClass": "standard",
  "kernelspec": {
   "display_name": "Python 3 (ipykernel)",
   "language": "python",
   "name": "python3"
  },
  "language_info": {
   "codemirror_mode": {
    "name": "ipython",
    "version": 3
   },
   "file_extension": ".py",
   "mimetype": "text/x-python",
   "name": "python",
   "nbconvert_exporter": "python",
   "pygments_lexer": "ipython3",
   "version": "3.9.12"
  }
 },
 "nbformat": 4,
 "nbformat_minor": 1
}
